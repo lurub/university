{
 "cells": [
  {
   "cell_type": "markdown",
   "id": "de5357c6",
   "metadata": {},
   "source": [
    "# **SETUP Libraries for first assignment** "
   ]
  },
  {
   "cell_type": "code",
   "execution_count": 1,
   "id": "3f8822a5",
   "metadata": {},
   "outputs": [
    {
     "name": "stdout",
     "output_type": "stream",
     "text": [
      "Requirement already satisfied: scikit-learn in c:\\users\\vince\\anaconda3\\lib\\site-packages (1.2.0)\n",
      "Requirement already satisfied: threadpoolctl>=2.0.0 in c:\\users\\vince\\anaconda3\\lib\\site-packages (from scikit-learn) (2.2.0)\n",
      "Requirement already satisfied: numpy>=1.17.3 in c:\\users\\vince\\anaconda3\\lib\\site-packages (from scikit-learn) (1.21.5)\n",
      "Requirement already satisfied: scipy>=1.3.2 in c:\\users\\vince\\anaconda3\\lib\\site-packages (from scikit-learn) (1.9.1)\n",
      "Requirement already satisfied: joblib>=1.1.1 in c:\\users\\vince\\anaconda3\\lib\\site-packages (from scikit-learn) (1.2.0)\n",
      "Requirement already satisfied: nltk in c:\\users\\vince\\appdata\\roaming\\python\\python39\\site-packages (3.8.1)\n",
      "Requirement already satisfied: joblib in c:\\users\\vince\\anaconda3\\lib\\site-packages (from nltk) (1.2.0)\n",
      "Requirement already satisfied: click in c:\\users\\vince\\anaconda3\\lib\\site-packages (from nltk) (8.0.4)\n",
      "Requirement already satisfied: tqdm in c:\\users\\vince\\anaconda3\\lib\\site-packages (from nltk) (4.64.1)\n",
      "Requirement already satisfied: regex>=2021.8.3 in c:\\users\\vince\\anaconda3\\lib\\site-packages (from nltk) (2022.7.9)\n",
      "Requirement already satisfied: colorama in c:\\users\\vince\\anaconda3\\lib\\site-packages (from click->nltk) (0.4.5)\n"
     ]
    },
    {
     "name": "stderr",
     "output_type": "stream",
     "text": [
      "ERROR: Could not find a version that satisfies the requirement datasetsfrom (from versions: none)\n",
      "ERROR: No matching distribution found for datasetsfrom\n",
      "[nltk_data] Downloading package twitter_samples to\n",
      "[nltk_data]     C:\\Users\\Vince\\AppData\\Roaming\\nltk_data...\n",
      "[nltk_data]   Package twitter_samples is already up-to-date!\n"
     ]
    },
    {
     "data": {
      "text/plain": [
       "True"
      ]
     },
     "execution_count": 1,
     "metadata": {},
     "output_type": "execute_result"
    }
   ],
   "source": [
    "!pip install -U scikit-learn\n",
    "!pip install --user -U nltk\n",
    "!pip install datasetsfrom sklearn.linear_model import LogisticRegression\n",
    "import nltk\n",
    "\n",
    "from sklearn.metrics import accuracy_score, confusion_matrix, ConfusionMatrixDisplay,precision_recall_fscore_support\n",
    "from sklearn.model_selection import train_test_split\n",
    "from sklearn.feature_extraction.text import CountVectorizer\n",
    "from sklearn.linear_model import LogisticRegression\n",
    "import csv\n",
    "import re\n",
    "from string import punctuation\n",
    "import pandas as pd\n",
    "import matplotlib.pyplot as plt\n",
    "import seaborn as sns\n",
    "import random\n",
    "import numpy as np\n",
    "from nltk.corpus import twitter_samples\n",
    "from nltk.tokenize import TweetTokenizer\n",
    "from nltk.corpus import names\n",
    "from nltk.corpus import stopwords\n",
    "from nltk.stem.porter import PorterStemmer\n",
    "from nltk import FreqDist, classify, NaiveBayesClassifier\n",
    "from nltk.metrics import ConfusionMatrix\n",
    "\n",
    "\n",
    "nltk.download('twitter_samples')\n"
   ]
  },
  {
   "cell_type": "markdown",
   "id": "1d3948bd",
   "metadata": {},
   "source": [
    "# **2° Assignment: Sentiment Analysis**\n",
    "\n",
    "It is a classification problem whose goal is to extract positive or negative orientations that a writer expresses toward some object like a review of a movie, book, or product on the web and etc.\n",
    "\n",
    "\n",
    "---\n",
    "\n"
   ]
  },
  {
   "cell_type": "markdown",
   "id": "7089473a",
   "metadata": {},
   "source": [
    "## **Naive Bayes**\n",
    "In order to do sentiment analysis, we use a **Nayve Bayes classifier**, where the goal is:\n",
    "\n",
    "\\begin{align}\n",
    "\\widehat{c}=\\underset{c  \\in C}{\\mathrm{argmax}}\\;P(c|d)=\\underset{c  \\in C}{\\mathrm{argmax}}\\;  \\frac{P(d|c)P(c)}{P(d)}= \\underset{c  \\in C}{\\mathrm{argmax}}\\;P(d|c)P(c)\n",
    "\\end{align}\n",
    "Where:\n",
    "- $C$ is the set of classes.\n",
    "- $c$ is the class\n",
    "- $d$ is the document, in our case is the tweet.\n",
    "\n",
    "i.e, we want to find the $\\widehat{c}$ class that maximizes posterior probability.\n",
    "\n",
    "Naïve Bayes makes the independence assumption between features associated witheach class:\n",
    "\n",
    "\\begin{align}\n",
    "P(f_1,f_2,...,f_n|c)=P(f_1|c)P(f_2|c)...P(f_n|c)\n",
    "\\end{align}\n",
    "\n",
    "So we have:\n",
    "\n",
    "\\begin{align}\n",
    "C_{nb}=\\underset{c  \\in C}{\\mathrm{argmax}}\\;P(c) \\prod_f p(f|c)\n",
    "\\end{align}\n",
    "\n",
    "To apply NB to text:\n",
    "\n",
    "\\begin{align}\n",
    "C_{nb}=\\underset{c  \\in C}{\\mathrm{argmax}}\\;P(c) \\prod_{i \\in positions} p(f|c)\n",
    "\\end{align}\n",
    "\n"
   ]
  },
  {
   "cell_type": "markdown",
   "id": "e0e16778",
   "metadata": {},
   "source": [
    "### **PREPROCESSING**\n",
    "\n",
    "We defined a preprocessing function, called `preprocessing(tweet)`, that given a tweet returns a preprocessed list of words that compose it.\n",
    "### **Preprocessing tasks**\n",
    "- We remove **urls** using a regular expression.\n",
    "- We use TweetTokenizer object with wich we can do the tokenization and the lower case.\n",
    "- We remove the stop words, punctuation and proper names creating sets of these elements and verifying that tokens are not present in these sets.\n",
    "\n",
    "\n",
    "**Example**\n",
    "```\n",
    "#INPUT\n",
    "sample = \"@JetBlue Great flight, as always! Thank you to the great crew on flight 475! # travel #jetblue\"\n",
    "\n",
    "#EXPECTED OUTPUT\n",
    "['great',\n",
    " 'flight',\n",
    " 'alway',\n",
    " 'thank',\n",
    " 'great',\n",
    " 'crew',\n",
    " 'flight',\n",
    " '475',\n",
    " 'travel',\n",
    " '#jetblu']\n",
    "```\n",
    "\n",
    "\n"
   ]
  },
  {
   "cell_type": "code",
   "execution_count": 2,
   "id": "fa237d0c",
   "metadata": {},
   "outputs": [],
   "source": [
    "def preprocessing(tweet):\n",
    "  #REMOVE URL\n",
    "  tweet_nourls = re.sub(r\"http\\S+\", \"\", tweet)\n",
    "\n",
    "  #TOKENIZE AND LOWERCASE\n",
    "  '''\n",
    "  * preserve_case (bool) – Flag indicating whether to preserve the casing (capitalisation) of text used in the tokenize method. Defaults to True.\n",
    "  * reduce_len (bool) – Flag indicating whether to replace repeated character sequences of length 3 or greater with sequences of length 3. Defaults to False.\n",
    "  * strip_handles (bool) – Flag indicating whether to remove Twitter handles of text used in the tokenize method. Defaults to False.\n",
    "  '''\n",
    "  tokenizer = TweetTokenizer(preserve_case = False, strip_handles=True, reduce_len=True)\n",
    "  tweet_tokens = tokenizer.tokenize(tweet_nourls)\n",
    "\n",
    "  #REMOVE STOP WORDS, PUNCTUATION AND NAMES\n",
    "  Stopwords = stopwords.words('english')\n",
    "  Punctuation = list(punctuation)\n",
    "  male_female = names.words('male.txt') + names.words('female.txt')\n",
    "  clean_tweets = []\n",
    "  porter_stemmer  = PorterStemmer()\n",
    "  for token in tweet_tokens:\n",
    "    if (token not in Stopwords and token not in Punctuation and token not in male_female):\n",
    "      clean_tweets.append(porter_stemmer.stem(token))\n",
    "\n",
    "  return clean_tweets"
   ]
  },
  {
   "cell_type": "markdown",
   "id": "bf5c7e1f",
   "metadata": {},
   "source": [
    "### **Bag_of_words**\n",
    "We define a function which performs feature extraction, called `bag_of_words(tweet)`, that given a tweet as input returns the dictionary formed by the key-value pairs, where the keys are the preprocessed tweet words and the value is set to TRUE if the key is to be considered by the model, FALSE otherwise.\n",
    "\n",
    "**NB**: in this we set everything to **TRUE** because we implicitly remove the **FALSE** words (with preprocessing)\n",
    "\n",
    "\n",
    "**Example**\n",
    "```\n",
    "#INPUT\n",
    "sample = \"@JetBlue Great flight, as always! Thank you to the great crew on flight 475! # travel #jetblue\"\n",
    "\n",
    "#OUTPUT\n",
    "{'great': True,\n",
    " 'flight': True,\n",
    " 'alway': True,\n",
    " 'thank': True,\n",
    " 'crew': True,\n",
    " '475': True,\n",
    " 'travel': True,\n",
    " '#jetblu': True}\n",
    "```\n",
    "\n"
   ]
  },
  {
   "cell_type": "code",
   "execution_count": 3,
   "id": "4a00044b",
   "metadata": {},
   "outputs": [],
   "source": [
    "#feature extractor function\n",
    "def bag_of_words(tweet):\n",
    "  words = preprocessing(tweet)\n",
    "  #TRUE = the word must be considered by the algorithm\n",
    "  words_dictionary = dict([word, True] for word in words)\n",
    "  return words_dictionary\n"
   ]
  },
  {
   "cell_type": "markdown",
   "id": "56e8a59b",
   "metadata": {},
   "source": [
    "### **Training Set and Test Set** \n",
    "Once we define the functions that allow us to prepare the input that we give to the Naive Bayes model implemented by NLTK, we create an unique set formed by the pairs (tweet, label), and after splits this into:\n",
    "\n",
    "\n",
    "*   75% Training set\n",
    "*   15% Test set, where divide into 5 subsets.\n",
    "\n",
    "We use the tweets defined by the nltk and the tweets present in a csv file."
   ]
  },
  {
   "cell_type": "code",
   "execution_count": 4,
   "id": "b5a508fb",
   "metadata": {},
   "outputs": [],
   "source": [
    "pos_tweets_set = []\n",
    "neg_tweets_set = []\n",
    "\n",
    "positive_t = twitter_samples.strings('positive_tweets.json')\n",
    "negative_t = twitter_samples.strings('negative_tweets.json')\n",
    "\n",
    "for tweet in positive_t:\n",
    "  pos_tweets_set.append((bag_of_words(tweet),'pos'))\n",
    "for tweet in negative_t:\n",
    "  neg_tweets_set.append((bag_of_words(tweet),'neg'))\n",
    "\n",
    "with open(\"./twitter_sentences.csv\",encoding=\"utf-8\") as csvfile:\n",
    "  reader = csv.reader(csvfile, delimiter = \",\")\n",
    "  for row in reader:\n",
    "    if row[0] == 'negative':\n",
    "      neg_tweets_set.append((bag_of_words(row[1]),'neg'))\n",
    "    else:\n",
    "      pos_tweets_set.append((bag_of_words(row[1]),'pos'))\n",
    "\n",
    "tweets_set = pos_tweets_set + neg_tweets_set"
   ]
  },
  {
   "cell_type": "code",
   "execution_count": 5,
   "id": "62be6012",
   "metadata": {},
   "outputs": [
    {
     "name": "stdout",
     "output_type": "stream",
     "text": [
      "\tTABLE EXAMPLE\n",
      "                                             FEATURE LABEL\n",
      "0  (#followfriday, top, engag, member, commun, we...   pos\n",
      "1  (someth, weekend, here', bodi, weight, workout...   pos\n",
      "2   (new, f, dfw, clt, morn, great, job, well, done)   pos\n",
      "3                                (hopeless, tmr, :()   neg\n",
      "4  (better, train, support, staff, appropri, deco...   neg\n",
      "5          (board, plane, know, maint, issu, us5235)   neg\n"
     ]
    }
   ],
   "source": [
    "\n",
    "from nltk.inference import tableau\n",
    "\n",
    "#keys: we want just print keys without \"true\" or \"false\" values of dictionaries\n",
    "dict_feature = {\n",
    "    \"FEATURE\": [pos_tweets_set[0][0].keys(), pos_tweets_set[int(len(pos_tweets_set)/2)][0].keys(), pos_tweets_set[len(pos_tweets_set)-1][0].keys(), neg_tweets_set[0][0].keys(), neg_tweets_set[int(len(neg_tweets_set)/2)][0].keys(),neg_tweets_set[len(neg_tweets_set)-1][0].keys()],\n",
    "    \"LABEL\": [pos_tweets_set[0][1], pos_tweets_set[int(len(pos_tweets_set)/2)][1], pos_tweets_set[len(pos_tweets_set)-1][1], neg_tweets_set[0][1], neg_tweets_set[int(len(neg_tweets_set)/2)][1], neg_tweets_set[len(neg_tweets_set)-1][1]]\n",
    "}\n",
    "\n",
    "table = pd.DataFrame(data=dict_feature)\n",
    "print(f\"\\tTABLE EXAMPLE\\n{table}\")\n",
    "\n"
   ]
  },
  {
   "cell_type": "code",
   "execution_count": 6,
   "id": "8f4d0bde",
   "metadata": {},
   "outputs": [],
   "source": [
    "#Shuffle the entire set of tweets\n",
    "random.shuffle(tweets_set) \n",
    "\n",
    "#75% of the set is given to the training set\n",
    "training_set = tweets_set[:int(len(tweets_set)*0.75)]\n",
    "\n",
    "#15% of the set is given to the test set, and we split this into 5 subsets\n",
    "test_splits = np.array_split(tweets_set[int(len(tweets_set)*0.75):],5)"
   ]
  },
  {
   "cell_type": "markdown",
   "id": "1ec6ecbc",
   "metadata": {},
   "source": [
    "### **Training**\n",
    "In order to do NBC training, we do:\n",
    "1. Count up how many times each feature value occurred, given the label and featurename.\n",
    "2. Compute the likelihood for each word.\n",
    "\\begin{align}\n",
    " P(w_i|class) = \\frac{freq(w_i, class) + 1}{N_{class}+V}\n",
    "\\end{align}\n",
    "where: $N_{class}$ is the frequency of all words in class and $V$ is the number of unique words in vocabulary.\n",
    "3. Get $\\lambda(w)$:\n",
    "\\begin{align}\n",
    "\\lambda(w) = \\frac{P(w_i|class_1)}{P(w_i|class_2)} \n",
    "\\end{align} \n",
    "where: $ class_1 = positive$ e $class_2 = negative $\n",
    "4. Compute the prior ratio \n",
    "\\begin{align}\n",
    "\\frac{P(class_1)}{P(class_2)}\n",
    "\\end{align} \n",
    "\n",
    "**Naive Bayes formula for binary classification**: \n",
    "\\begin{align}\n",
    "NB = \\frac{P(class_1)}{P(class_2)} \\prod_{i=1}^{n}\\lambda(w_i)\n",
    "\\end{align} \n",
    "where:\n",
    "- if $NB > 1$ the output label is positive. \n",
    "- else if $NB < 1$ the output label is negative. \n",
    "- else if $NB = 1$ the output label is neutral.\n",
    "\n",
    "To avoid multiplications among very small value we apply the **logarithmic transformation**.\n",
    "\\begin{align}\n",
    "log\\frac{P(class_1)}{P(class_2)} + \\sum_{i=1}^n log\\frac{P(w_i|class_1)}{P(w_i|class_2)} \n",
    "\\end{align} "
   ]
  },
  {
   "cell_type": "code",
   "execution_count": 7,
   "id": "588a04dc",
   "metadata": {},
   "outputs": [],
   "source": [
    "#NAIVE BAYES CLASSIFIER\n",
    "NBClassifier = NaiveBayesClassifier.train(training_set)"
   ]
  },
  {
   "cell_type": "markdown",
   "id": "e995fe87",
   "metadata": {},
   "source": [
    "### **Testing and Evaluation**\n",
    "After training our model, we do the testing using 5 test sets. For each we compute the:\n",
    "* **Confusion Matrix**: a confusion matrix is a table for visualizing how an algorithm performs with respect to the human gold labels\n",
    "* **Precision**: the ratio of correctly classified positive samples (True Positive) to a total number of classified positive samples (either correctly or incorrectly). Is a percentage that tells us how likely the prediction is correct.\n",
    "\\begin{align}\n",
    "\\text{Precision} = \\frac{TP}{TP+FP}\n",
    "\\end{align}\n",
    "* **Recall**:  the ratio between the numbers of Positive samples correctly classified as Positive to the total number of Positive samples. The **recall measures** the model's ability to detect positive samples. The higher the recall, the more positive samples detected.\n",
    "\\begin{align}\n",
    "\\text{Recall} = \\frac{TP}{TP+FN}\n",
    "\\end{align}\n",
    "* **F-measure**: is a measure of a model’s accuracy on a dataset. It is used to evaluate binary classification systems. Is a way of combining the precision and recall of the model, and it is defined as the harmonic mean of the model’s precision and recall. \\begin{align}\n",
    "F_{β}= \\frac{(β^2 + 1) × \\text{Precision} × \\text{Recall}}{{β^2 ×\\text{Precisión} + \\text{Recall}}}\n",
    "\\end{align}\n",
    "Based on the $β$  value, the importance of precision or recall is determined\n",
    "* **Accuracy**: accuracy is one metric for evaluating classification models. Informally, accuracy is the fraction of predictions our model got right. Formally, accuracy has the following definition:\n",
    "\n",
    "\\begin{align}\n",
    "\\text{Accuracy} = \\frac{\\text{Number of correct predictions}}{\\text{Total number of predictions}}\n",
    "\\end{align}\n"
   ]
  },
  {
   "cell_type": "code",
   "execution_count": 8,
   "id": "a31aafa6",
   "metadata": {},
   "outputs": [],
   "source": [
    "def ComputeConfusionMatrix(predicted_out, real_out):\n",
    "  cm = ConfusionMatrix(predicted_out,real_out)\n",
    "  return cm"
   ]
  },
  {
   "cell_type": "code",
   "execution_count": 9,
   "id": "2dc66802",
   "metadata": {},
   "outputs": [],
   "source": [
    "\n",
    "def displayConfusionMatrix(cm):\n",
    "  true_positive = cm[\"pos\",\"pos\"]\n",
    "  false_positive = cm[\"pos\", \"neg\"]\n",
    "  true_negative = cm[\"neg\",\"neg\"]\n",
    "  false_negative = cm[\"neg\",\"pos\"]\n",
    "  matrix = np.array([[true_positive, false_positive], [false_negative, true_negative]])\n",
    "  df_confusionMatrix = pd.DataFrame(matrix, columns=[\"pos\", \"neg\"], index=[\"pos\",\"neg\"])\n",
    "\n",
    "  df_confusionMatrix = df_confusionMatrix.style.set_caption(\"Confusion Matrix\").set_table_styles([{'selector': 'caption',\n",
    "    \"props\":[(\"text-align\", \"center\")]\n",
    "  }])\n",
    "\n",
    "  display(df_confusionMatrix)"
   ]
  },
  {
   "cell_type": "code",
   "execution_count": 10,
   "id": "bbc7fab5",
   "metadata": {},
   "outputs": [],
   "source": [
    "def displayEvaluation(cm,accuracy):\n",
    "  pos_precision = cm.precision(\"pos\")\n",
    "  pos_recall = cm.recall(\"pos\")\n",
    "  neg_precision = cm.precision(\"neg\")\n",
    "  neg_recall = cm.recall(\"neg\")\n",
    "  pos_f_measure = cm.f_measure(\"pos\")\n",
    "  neg_f_measure = cm.f_measure(\"neg\")\n",
    "\n",
    "  evaluation_array = np.array([[pos_precision,pos_recall, pos_f_measure,accuracy], [neg_precision,neg_recall,neg_f_measure,accuracy]])\n",
    "  df_evaluation = pd.DataFrame(evaluation_array,columns=[\"precision\",\"recall\",\"f_measure\",\"accuracy\"],index=[\"pos\",\"neg\"])\n",
    "\n",
    "  df_evaluation = df_evaluation.style.set_caption(\"Evaluations\").set_table_styles([{'selector': 'caption',\n",
    "    \"props\":[(\"text-align\", \"center\")]\n",
    "  }])\n",
    "\n",
    "  display(df_evaluation)\n"
   ]
  },
  {
   "cell_type": "code",
   "execution_count": 11,
   "id": "c9956239",
   "metadata": {},
   "outputs": [
    {
     "data": {
      "text/html": [
       "<style type=\"text/css\">\n",
       "#T_97f65 caption {\n",
       "  text-align: center;\n",
       "}\n",
       "</style>\n",
       "<table id=\"T_97f65\">\n",
       "  <caption>Confusion Matrix</caption>\n",
       "  <thead>\n",
       "    <tr>\n",
       "      <th class=\"blank level0\" >&nbsp;</th>\n",
       "      <th id=\"T_97f65_level0_col0\" class=\"col_heading level0 col0\" >pos</th>\n",
       "      <th id=\"T_97f65_level0_col1\" class=\"col_heading level0 col1\" >neg</th>\n",
       "    </tr>\n",
       "  </thead>\n",
       "  <tbody>\n",
       "    <tr>\n",
       "      <th id=\"T_97f65_level0_row0\" class=\"row_heading level0 row0\" >pos</th>\n",
       "      <td id=\"T_97f65_row0_col0\" class=\"data row0 col0\" >288</td>\n",
       "      <td id=\"T_97f65_row0_col1\" class=\"data row0 col1\" >6</td>\n",
       "    </tr>\n",
       "    <tr>\n",
       "      <th id=\"T_97f65_level0_row1\" class=\"row_heading level0 row1\" >neg</th>\n",
       "      <td id=\"T_97f65_row1_col0\" class=\"data row1 col0\" >37</td>\n",
       "      <td id=\"T_97f65_row1_col1\" class=\"data row1 col1\" >549</td>\n",
       "    </tr>\n",
       "  </tbody>\n",
       "</table>\n"
      ],
      "text/plain": [
       "<pandas.io.formats.style.Styler at 0x2981f6884f0>"
      ]
     },
     "metadata": {},
     "output_type": "display_data"
    },
    {
     "data": {
      "text/html": [
       "<style type=\"text/css\">\n",
       "#T_dfebb caption {\n",
       "  text-align: center;\n",
       "}\n",
       "</style>\n",
       "<table id=\"T_dfebb\">\n",
       "  <caption>Evaluations</caption>\n",
       "  <thead>\n",
       "    <tr>\n",
       "      <th class=\"blank level0\" >&nbsp;</th>\n",
       "      <th id=\"T_dfebb_level0_col0\" class=\"col_heading level0 col0\" >precision</th>\n",
       "      <th id=\"T_dfebb_level0_col1\" class=\"col_heading level0 col1\" >recall</th>\n",
       "      <th id=\"T_dfebb_level0_col2\" class=\"col_heading level0 col2\" >f_measure</th>\n",
       "      <th id=\"T_dfebb_level0_col3\" class=\"col_heading level0 col3\" >accuracy</th>\n",
       "    </tr>\n",
       "  </thead>\n",
       "  <tbody>\n",
       "    <tr>\n",
       "      <th id=\"T_dfebb_level0_row0\" class=\"row_heading level0 row0\" >pos</th>\n",
       "      <td id=\"T_dfebb_row0_col0\" class=\"data row0 col0\" >0.886154</td>\n",
       "      <td id=\"T_dfebb_row0_col1\" class=\"data row0 col1\" >0.979592</td>\n",
       "      <td id=\"T_dfebb_row0_col2\" class=\"data row0 col2\" >0.930533</td>\n",
       "      <td id=\"T_dfebb_row0_col3\" class=\"data row0 col3\" >0.951136</td>\n",
       "    </tr>\n",
       "    <tr>\n",
       "      <th id=\"T_dfebb_level0_row1\" class=\"row_heading level0 row1\" >neg</th>\n",
       "      <td id=\"T_dfebb_row1_col0\" class=\"data row1 col0\" >0.989189</td>\n",
       "      <td id=\"T_dfebb_row1_col1\" class=\"data row1 col1\" >0.936860</td>\n",
       "      <td id=\"T_dfebb_row1_col2\" class=\"data row1 col2\" >0.962314</td>\n",
       "      <td id=\"T_dfebb_row1_col3\" class=\"data row1 col3\" >0.951136</td>\n",
       "    </tr>\n",
       "  </tbody>\n",
       "</table>\n"
      ],
      "text/plain": [
       "<pandas.io.formats.style.Styler at 0x298166d8310>"
      ]
     },
     "metadata": {},
     "output_type": "display_data"
    },
    {
     "data": {
      "text/html": [
       "<style type=\"text/css\">\n",
       "#T_6fc6c caption {\n",
       "  text-align: center;\n",
       "}\n",
       "</style>\n",
       "<table id=\"T_6fc6c\">\n",
       "  <caption>Confusion Matrix</caption>\n",
       "  <thead>\n",
       "    <tr>\n",
       "      <th class=\"blank level0\" >&nbsp;</th>\n",
       "      <th id=\"T_6fc6c_level0_col0\" class=\"col_heading level0 col0\" >pos</th>\n",
       "      <th id=\"T_6fc6c_level0_col1\" class=\"col_heading level0 col1\" >neg</th>\n",
       "    </tr>\n",
       "  </thead>\n",
       "  <tbody>\n",
       "    <tr>\n",
       "      <th id=\"T_6fc6c_level0_row0\" class=\"row_heading level0 row0\" >pos</th>\n",
       "      <td id=\"T_6fc6c_row0_col0\" class=\"data row0 col0\" >293</td>\n",
       "      <td id=\"T_6fc6c_row0_col1\" class=\"data row0 col1\" >9</td>\n",
       "    </tr>\n",
       "    <tr>\n",
       "      <th id=\"T_6fc6c_level0_row1\" class=\"row_heading level0 row1\" >neg</th>\n",
       "      <td id=\"T_6fc6c_row1_col0\" class=\"data row1 col0\" >36</td>\n",
       "      <td id=\"T_6fc6c_row1_col1\" class=\"data row1 col1\" >542</td>\n",
       "    </tr>\n",
       "  </tbody>\n",
       "</table>\n"
      ],
      "text/plain": [
       "<pandas.io.formats.style.Styler at 0x2981f6884f0>"
      ]
     },
     "metadata": {},
     "output_type": "display_data"
    },
    {
     "data": {
      "text/html": [
       "<style type=\"text/css\">\n",
       "#T_839c0 caption {\n",
       "  text-align: center;\n",
       "}\n",
       "</style>\n",
       "<table id=\"T_839c0\">\n",
       "  <caption>Evaluations</caption>\n",
       "  <thead>\n",
       "    <tr>\n",
       "      <th class=\"blank level0\" >&nbsp;</th>\n",
       "      <th id=\"T_839c0_level0_col0\" class=\"col_heading level0 col0\" >precision</th>\n",
       "      <th id=\"T_839c0_level0_col1\" class=\"col_heading level0 col1\" >recall</th>\n",
       "      <th id=\"T_839c0_level0_col2\" class=\"col_heading level0 col2\" >f_measure</th>\n",
       "      <th id=\"T_839c0_level0_col3\" class=\"col_heading level0 col3\" >accuracy</th>\n",
       "    </tr>\n",
       "  </thead>\n",
       "  <tbody>\n",
       "    <tr>\n",
       "      <th id=\"T_839c0_level0_row0\" class=\"row_heading level0 row0\" >pos</th>\n",
       "      <td id=\"T_839c0_row0_col0\" class=\"data row0 col0\" >0.890578</td>\n",
       "      <td id=\"T_839c0_row0_col1\" class=\"data row0 col1\" >0.970199</td>\n",
       "      <td id=\"T_839c0_row0_col2\" class=\"data row0 col2\" >0.928685</td>\n",
       "      <td id=\"T_839c0_row0_col3\" class=\"data row0 col3\" >0.948864</td>\n",
       "    </tr>\n",
       "    <tr>\n",
       "      <th id=\"T_839c0_level0_row1\" class=\"row_heading level0 row1\" >neg</th>\n",
       "      <td id=\"T_839c0_row1_col0\" class=\"data row1 col0\" >0.983666</td>\n",
       "      <td id=\"T_839c0_row1_col1\" class=\"data row1 col1\" >0.937716</td>\n",
       "      <td id=\"T_839c0_row1_col2\" class=\"data row1 col2\" >0.960142</td>\n",
       "      <td id=\"T_839c0_row1_col3\" class=\"data row1 col3\" >0.948864</td>\n",
       "    </tr>\n",
       "  </tbody>\n",
       "</table>\n"
      ],
      "text/plain": [
       "<pandas.io.formats.style.Styler at 0x2981671f880>"
      ]
     },
     "metadata": {},
     "output_type": "display_data"
    },
    {
     "data": {
      "text/html": [
       "<style type=\"text/css\">\n",
       "#T_d29de caption {\n",
       "  text-align: center;\n",
       "}\n",
       "</style>\n",
       "<table id=\"T_d29de\">\n",
       "  <caption>Confusion Matrix</caption>\n",
       "  <thead>\n",
       "    <tr>\n",
       "      <th class=\"blank level0\" >&nbsp;</th>\n",
       "      <th id=\"T_d29de_level0_col0\" class=\"col_heading level0 col0\" >pos</th>\n",
       "      <th id=\"T_d29de_level0_col1\" class=\"col_heading level0 col1\" >neg</th>\n",
       "    </tr>\n",
       "  </thead>\n",
       "  <tbody>\n",
       "    <tr>\n",
       "      <th id=\"T_d29de_level0_row0\" class=\"row_heading level0 row0\" >pos</th>\n",
       "      <td id=\"T_d29de_row0_col0\" class=\"data row0 col0\" >321</td>\n",
       "      <td id=\"T_d29de_row0_col1\" class=\"data row0 col1\" >6</td>\n",
       "    </tr>\n",
       "    <tr>\n",
       "      <th id=\"T_d29de_level0_row1\" class=\"row_heading level0 row1\" >neg</th>\n",
       "      <td id=\"T_d29de_row1_col0\" class=\"data row1 col0\" >44</td>\n",
       "      <td id=\"T_d29de_row1_col1\" class=\"data row1 col1\" >509</td>\n",
       "    </tr>\n",
       "  </tbody>\n",
       "</table>\n"
      ],
      "text/plain": [
       "<pandas.io.formats.style.Styler at 0x2981d313fa0>"
      ]
     },
     "metadata": {},
     "output_type": "display_data"
    },
    {
     "data": {
      "text/html": [
       "<style type=\"text/css\">\n",
       "#T_501fe caption {\n",
       "  text-align: center;\n",
       "}\n",
       "</style>\n",
       "<table id=\"T_501fe\">\n",
       "  <caption>Evaluations</caption>\n",
       "  <thead>\n",
       "    <tr>\n",
       "      <th class=\"blank level0\" >&nbsp;</th>\n",
       "      <th id=\"T_501fe_level0_col0\" class=\"col_heading level0 col0\" >precision</th>\n",
       "      <th id=\"T_501fe_level0_col1\" class=\"col_heading level0 col1\" >recall</th>\n",
       "      <th id=\"T_501fe_level0_col2\" class=\"col_heading level0 col2\" >f_measure</th>\n",
       "      <th id=\"T_501fe_level0_col3\" class=\"col_heading level0 col3\" >accuracy</th>\n",
       "    </tr>\n",
       "  </thead>\n",
       "  <tbody>\n",
       "    <tr>\n",
       "      <th id=\"T_501fe_level0_row0\" class=\"row_heading level0 row0\" >pos</th>\n",
       "      <td id=\"T_501fe_row0_col0\" class=\"data row0 col0\" >0.879452</td>\n",
       "      <td id=\"T_501fe_row0_col1\" class=\"data row0 col1\" >0.981651</td>\n",
       "      <td id=\"T_501fe_row0_col2\" class=\"data row0 col2\" >0.927746</td>\n",
       "      <td id=\"T_501fe_row0_col3\" class=\"data row0 col3\" >0.943182</td>\n",
       "    </tr>\n",
       "    <tr>\n",
       "      <th id=\"T_501fe_level0_row1\" class=\"row_heading level0 row1\" >neg</th>\n",
       "      <td id=\"T_501fe_row1_col0\" class=\"data row1 col0\" >0.988350</td>\n",
       "      <td id=\"T_501fe_row1_col1\" class=\"data row1 col1\" >0.920434</td>\n",
       "      <td id=\"T_501fe_row1_col2\" class=\"data row1 col2\" >0.953184</td>\n",
       "      <td id=\"T_501fe_row1_col3\" class=\"data row1 col3\" >0.943182</td>\n",
       "    </tr>\n",
       "  </tbody>\n",
       "</table>\n"
      ],
      "text/plain": [
       "<pandas.io.formats.style.Styler at 0x298166d8310>"
      ]
     },
     "metadata": {},
     "output_type": "display_data"
    },
    {
     "data": {
      "text/html": [
       "<style type=\"text/css\">\n",
       "#T_46959 caption {\n",
       "  text-align: center;\n",
       "}\n",
       "</style>\n",
       "<table id=\"T_46959\">\n",
       "  <caption>Confusion Matrix</caption>\n",
       "  <thead>\n",
       "    <tr>\n",
       "      <th class=\"blank level0\" >&nbsp;</th>\n",
       "      <th id=\"T_46959_level0_col0\" class=\"col_heading level0 col0\" >pos</th>\n",
       "      <th id=\"T_46959_level0_col1\" class=\"col_heading level0 col1\" >neg</th>\n",
       "    </tr>\n",
       "  </thead>\n",
       "  <tbody>\n",
       "    <tr>\n",
       "      <th id=\"T_46959_level0_row0\" class=\"row_heading level0 row0\" >pos</th>\n",
       "      <td id=\"T_46959_row0_col0\" class=\"data row0 col0\" >280</td>\n",
       "      <td id=\"T_46959_row0_col1\" class=\"data row0 col1\" >6</td>\n",
       "    </tr>\n",
       "    <tr>\n",
       "      <th id=\"T_46959_level0_row1\" class=\"row_heading level0 row1\" >neg</th>\n",
       "      <td id=\"T_46959_row1_col0\" class=\"data row1 col0\" >64</td>\n",
       "      <td id=\"T_46959_row1_col1\" class=\"data row1 col1\" >529</td>\n",
       "    </tr>\n",
       "  </tbody>\n",
       "</table>\n"
      ],
      "text/plain": [
       "<pandas.io.formats.style.Styler at 0x2981fbdb7c0>"
      ]
     },
     "metadata": {},
     "output_type": "display_data"
    },
    {
     "data": {
      "text/html": [
       "<style type=\"text/css\">\n",
       "#T_57270 caption {\n",
       "  text-align: center;\n",
       "}\n",
       "</style>\n",
       "<table id=\"T_57270\">\n",
       "  <caption>Evaluations</caption>\n",
       "  <thead>\n",
       "    <tr>\n",
       "      <th class=\"blank level0\" >&nbsp;</th>\n",
       "      <th id=\"T_57270_level0_col0\" class=\"col_heading level0 col0\" >precision</th>\n",
       "      <th id=\"T_57270_level0_col1\" class=\"col_heading level0 col1\" >recall</th>\n",
       "      <th id=\"T_57270_level0_col2\" class=\"col_heading level0 col2\" >f_measure</th>\n",
       "      <th id=\"T_57270_level0_col3\" class=\"col_heading level0 col3\" >accuracy</th>\n",
       "    </tr>\n",
       "  </thead>\n",
       "  <tbody>\n",
       "    <tr>\n",
       "      <th id=\"T_57270_level0_row0\" class=\"row_heading level0 row0\" >pos</th>\n",
       "      <td id=\"T_57270_row0_col0\" class=\"data row0 col0\" >0.813953</td>\n",
       "      <td id=\"T_57270_row0_col1\" class=\"data row0 col1\" >0.979021</td>\n",
       "      <td id=\"T_57270_row0_col2\" class=\"data row0 col2\" >0.888889</td>\n",
       "      <td id=\"T_57270_row0_col3\" class=\"data row0 col3\" >0.920364</td>\n",
       "    </tr>\n",
       "    <tr>\n",
       "      <th id=\"T_57270_level0_row1\" class=\"row_heading level0 row1\" >neg</th>\n",
       "      <td id=\"T_57270_row1_col0\" class=\"data row1 col0\" >0.988785</td>\n",
       "      <td id=\"T_57270_row1_col1\" class=\"data row1 col1\" >0.892074</td>\n",
       "      <td id=\"T_57270_row1_col2\" class=\"data row1 col2\" >0.937943</td>\n",
       "      <td id=\"T_57270_row1_col3\" class=\"data row1 col3\" >0.920364</td>\n",
       "    </tr>\n",
       "  </tbody>\n",
       "</table>\n"
      ],
      "text/plain": [
       "<pandas.io.formats.style.Styler at 0x2981f6884f0>"
      ]
     },
     "metadata": {},
     "output_type": "display_data"
    },
    {
     "data": {
      "text/html": [
       "<style type=\"text/css\">\n",
       "#T_4b476 caption {\n",
       "  text-align: center;\n",
       "}\n",
       "</style>\n",
       "<table id=\"T_4b476\">\n",
       "  <caption>Confusion Matrix</caption>\n",
       "  <thead>\n",
       "    <tr>\n",
       "      <th class=\"blank level0\" >&nbsp;</th>\n",
       "      <th id=\"T_4b476_level0_col0\" class=\"col_heading level0 col0\" >pos</th>\n",
       "      <th id=\"T_4b476_level0_col1\" class=\"col_heading level0 col1\" >neg</th>\n",
       "    </tr>\n",
       "  </thead>\n",
       "  <tbody>\n",
       "    <tr>\n",
       "      <th id=\"T_4b476_level0_row0\" class=\"row_heading level0 row0\" >pos</th>\n",
       "      <td id=\"T_4b476_row0_col0\" class=\"data row0 col0\" >316</td>\n",
       "      <td id=\"T_4b476_row0_col1\" class=\"data row0 col1\" >6</td>\n",
       "    </tr>\n",
       "    <tr>\n",
       "      <th id=\"T_4b476_level0_row1\" class=\"row_heading level0 row1\" >neg</th>\n",
       "      <td id=\"T_4b476_row1_col0\" class=\"data row1 col0\" >47</td>\n",
       "      <td id=\"T_4b476_row1_col1\" class=\"data row1 col1\" >510</td>\n",
       "    </tr>\n",
       "  </tbody>\n",
       "</table>\n"
      ],
      "text/plain": [
       "<pandas.io.formats.style.Styler at 0x2981671f880>"
      ]
     },
     "metadata": {},
     "output_type": "display_data"
    },
    {
     "data": {
      "text/html": [
       "<style type=\"text/css\">\n",
       "#T_1aad3 caption {\n",
       "  text-align: center;\n",
       "}\n",
       "</style>\n",
       "<table id=\"T_1aad3\">\n",
       "  <caption>Evaluations</caption>\n",
       "  <thead>\n",
       "    <tr>\n",
       "      <th class=\"blank level0\" >&nbsp;</th>\n",
       "      <th id=\"T_1aad3_level0_col0\" class=\"col_heading level0 col0\" >precision</th>\n",
       "      <th id=\"T_1aad3_level0_col1\" class=\"col_heading level0 col1\" >recall</th>\n",
       "      <th id=\"T_1aad3_level0_col2\" class=\"col_heading level0 col2\" >f_measure</th>\n",
       "      <th id=\"T_1aad3_level0_col3\" class=\"col_heading level0 col3\" >accuracy</th>\n",
       "    </tr>\n",
       "  </thead>\n",
       "  <tbody>\n",
       "    <tr>\n",
       "      <th id=\"T_1aad3_level0_row0\" class=\"row_heading level0 row0\" >pos</th>\n",
       "      <td id=\"T_1aad3_row0_col0\" class=\"data row0 col0\" >0.870523</td>\n",
       "      <td id=\"T_1aad3_row0_col1\" class=\"data row0 col1\" >0.981366</td>\n",
       "      <td id=\"T_1aad3_row0_col2\" class=\"data row0 col2\" >0.922628</td>\n",
       "      <td id=\"T_1aad3_row0_col3\" class=\"data row0 col3\" >0.939704</td>\n",
       "    </tr>\n",
       "    <tr>\n",
       "      <th id=\"T_1aad3_level0_row1\" class=\"row_heading level0 row1\" >neg</th>\n",
       "      <td id=\"T_1aad3_row1_col0\" class=\"data row1 col0\" >0.988372</td>\n",
       "      <td id=\"T_1aad3_row1_col1\" class=\"data row1 col1\" >0.915619</td>\n",
       "      <td id=\"T_1aad3_row1_col2\" class=\"data row1 col2\" >0.950606</td>\n",
       "      <td id=\"T_1aad3_row1_col3\" class=\"data row1 col3\" >0.939704</td>\n",
       "    </tr>\n",
       "  </tbody>\n",
       "</table>\n"
      ],
      "text/plain": [
       "<pandas.io.formats.style.Styler at 0x298166d8310>"
      ]
     },
     "metadata": {},
     "output_type": "display_data"
    },
    {
     "name": "stdout",
     "output_type": "stream",
     "text": [
      "Accuracy's StdDev:  0.010920183451033221\n",
      "Accuracy's mean 0.9406500155134967\n"
     ]
    }
   ],
   "source": [
    "acc = []\n",
    "for tweet in test_splits:\n",
    "  acc.append(classify.accuracy(NBClassifier, tweet))\n",
    "  #UNPACKING OPERATOR -> *\n",
    "  # https://www.geeksforgeeks.org/python-get-first-element-of-each-sublist/\n",
    "  pos_neg_tweets = list(list(zip(*tweet))[0]) #Only the tweets\n",
    "  real_out_sets = list(list(zip(*tweet))[1]) # Only the labels\n",
    "  cm = ComputeConfusionMatrix(NBClassifier.classify_many(pos_neg_tweets), real_out_sets)\n",
    "  displayConfusionMatrix(cm)\n",
    "  displayEvaluation(cm,classify.accuracy(NBClassifier, tweet))\n",
    "  \n",
    "accuracy = np.array(acc)\n",
    "print(\"Accuracy's StdDev: \",  accuracy.std())\n",
    "print(\"Accuracy's mean\", accuracy.mean())"
   ]
  },
  {
   "cell_type": "markdown",
   "id": "3be895b0",
   "metadata": {},
   "source": [
    "**Example**\n",
    "\n",
    "Given a new tweet we calculate the probability that it is `'pos'` or `'neg'`."
   ]
  },
  {
   "cell_type": "code",
   "execution_count": 12,
   "id": "315c8d38",
   "metadata": {},
   "outputs": [
    {
     "name": "stdout",
     "output_type": "stream",
     "text": [
      "neg :  The more I use @salesforce the more I dislike it. It's slow and full of bugs. There are elements of the UI that look like they haven't been updated since 2006. Current frustration: app exchange pages won't stop refreshing every 10 seconds\n",
      "Probability of pos:  8.81525982122856e-07\n",
      "Probability of neg:  0.9999991184740158\n"
     ]
    }
   ],
   "source": [
    "tweet = 'The more I use @salesforce the more I dislike it. It\\'s slow and full of bugs. There are elements of the UI that look like they haven\\'t been updated since 2006. Current frustration: app exchange pages won\\'t stop refreshing every 10 seconds'\n",
    "\n",
    "print(NBClassifier.classify(bag_of_words(tweet)), ': ', tweet)\n",
    "prob = NBClassifier.prob_classify(bag_of_words(tweet))\n",
    "print('Probability of pos: ', prob.prob('pos'))\n",
    "print('Probability of neg: ', prob.prob('neg'))"
   ]
  },
  {
   "attachments": {
    "lr.png": {
     "image/png": "[encoded data removed]"
    }
   },
   "cell_type": "markdown",
   "id": "2f2bbbe8",
   "metadata": {},
   "source": [
    "## **LOGISTIC REGRESSION CLASSIFIER**\n",
    "\n",
    "In order to do what is required we import the necessary modules and create two sets of positive and negative tweets using the `twitter_samples` module from NTLK. In this case we use the module LogisticRegression implemented by scikit-learn.\n",
    "\n",
    "### **Logistic or Sigmoid function** \n",
    "Logistic Regression Classifier is based on the sigmoid (or logistic) function that makes use of the sigmoid function which outputs a probability between 0 and 1, i.e:\n",
    "\n",
    "\\begin{align}\n",
    "0 \\leq h_{\\theta}(x) \\leq 1 \n",
    "\\end{align}\n",
    "\n",
    "where: \n",
    "\n",
    "\\begin{align}\n",
    "h_{\\theta}(x) =  g({\\theta}^{T} * x) = \\frac{1}{1+e^{-{\\theta}^T}*x}\n",
    "\\end{align}\n",
    "\n",
    "$g$ is the non-linear, continuous and non-differentiable function.\n",
    "<img src=\"attachment:lr.png\" width=\"500\"/>"
   ]
  },
  {
   "cell_type": "markdown",
   "id": "00be6e13",
   "metadata": {},
   "source": [
    "\n",
    "### **PREPROCESSING**\n",
    "\n",
    "We defined a preprocessing function, called `preprocessingLR(tweet)`, that given a tweet returns a preprocessed tweet.\n",
    "#### **Preprocessing tasks**\n",
    "- We remove **urls** using a regular expression.\n",
    "- We use TweetTokenizer object with wich we can do the tokenization and the lower case.\n",
    "- We remove the stop words, punctuation and proper names creating sets of these elements and verifying that tokens are not present in these sets.\n",
    "\n",
    "\n",
    "**Example**\n",
    "```\n",
    "#INPUT\n",
    "sample = \"@JetBlue Great flight, as always! Thank you to the great crew on flight 475! # travel #jetblue\"\n",
    "\n",
    "#EXPECTED OUTPUT\n",
    "\"great flight alway thank great crew flight 475 travel #jetblu\"\n",
    "```\n",
    "\n",
    "\n"
   ]
  },
  {
   "cell_type": "code",
   "execution_count": 13,
   "id": "dadc2efe",
   "metadata": {},
   "outputs": [
    {
     "data": {
      "text/plain": [
       "'great flight alway thank great crew flight 475 travel #jetblu'"
      ]
     },
     "execution_count": 13,
     "metadata": {},
     "output_type": "execute_result"
    }
   ],
   "source": [
    "def preprocessingLR(tweet):\n",
    "  #REMOVE URL\n",
    "  tweet = re.sub(r\"http\\S+\", \"\", tweet)\n",
    "\n",
    "  #TOKENIZE AND LOWERCASE\n",
    "  tokenizer = TweetTokenizer(preserve_case = False, strip_handles=True, reduce_len=True)\n",
    "  tweet_tokens = tokenizer.tokenize(tweet)\n",
    "\n",
    "  #REMOVE STOP WORDS, PUNCTUATION AND NAMES\n",
    "  Stopwords = stopwords.words('english')\n",
    "  Punctuation = list(punctuation)\n",
    "  male_female = names.words('male.txt') + names.words('female.txt')\n",
    "  clean_tweets = []\n",
    "  porter_stemmer  = PorterStemmer()\n",
    "  for token in tweet_tokens:\n",
    "    if token not in Stopwords and token not in Punctuation and token not in male_female:\n",
    "      clean_tweets.append(porter_stemmer.stem(token))\n",
    "\n",
    "  return ' '.join(clean_tweets)\n",
    "\n",
    "\n",
    "#INPUT\n",
    "tweet = \"@JetBlue Great flight, as always! Thank you to the great crew on flight 475! # travel #jetblue\"\n",
    "preprocessingLR(tweet)"
   ]
  },
  {
   "cell_type": "markdown",
   "id": "19768ee0",
   "metadata": {},
   "source": [
    "### **Features extraction**\n",
    "From the input files we create a sets containing all tweets and a set containing their respective labels.\n",
    "Using the `fit_transform()` function of `CountVectorizer` object we transform the sentences into a sparse word-document matrix turning words into lowercase."
   ]
  },
  {
   "cell_type": "code",
   "execution_count": 14,
   "id": "757825fb",
   "metadata": {},
   "outputs": [],
   "source": [
    "data = []\n",
    "data_labels = []\n",
    "\n",
    "for i in twitter_samples.strings('positive_tweets.json'): \n",
    "  data.append(preprocessingLR(i)) \n",
    "  data_labels.append('pos')\n",
    "\n",
    "for i in twitter_samples.strings('negative_tweets.json'): \n",
    "  data.append(preprocessingLR(i))\n",
    "  data_labels.append('neg')\n",
    "\n",
    "with open(\"./twitter_sentences.csv\",encoding=\"utf-8\") as csvfile:\n",
    "  reader = csv.reader(csvfile, delimiter = \",\")\n",
    "  for row in reader:\n",
    "    if row[0] == 'negative':\n",
    "      data.append(preprocessingLR(row[1]))\n",
    "      data_labels.append('neg')\n",
    "    else:\n",
    "      data.append(preprocessingLR(row[1]))\n",
    "      data_labels.append('pos')\n",
    "\n",
    "\n",
    "vectorizer = CountVectorizer(analyzer = 'word', lowercase = True)\n",
    "features = vectorizer.fit_transform(data) #FEATURES = DOCUMENT TERM MATRIX\n"
   ]
  },
  {
   "cell_type": "markdown",
   "id": "84bdb352",
   "metadata": {},
   "source": [
    "### **Splitting** \n",
    "We split the data into training set and test set (75% - 25%), with respective output sets, using the bult-in scikit-learn's function `train_test_split()`.\n",
    "We use the same function for splitting the test set into 4 subsets, each one of 25%."
   ]
  },
  {
   "cell_type": "code",
   "execution_count": 15,
   "id": "710963b6",
   "metadata": {},
   "outputs": [],
   "source": [
    "x_train, x_test, y_train, y_test = train_test_split(features,data_labels)\n",
    "\n",
    "x1_test, x2_test, y1_test, y2_test = train_test_split(x_test, y_test, train_size=0.5)\n",
    "\n",
    "x3_test, x4_test, y3_test, y4_test = train_test_split(x1_test, y1_test, train_size=0.5)#25%\n",
    "\n",
    "x1_test, x2_test, y1_test, y2_test = train_test_split(x2_test, y2_test, train_size=0.5) # 25%\n"
   ]
  },
  {
   "cell_type": "markdown",
   "id": "f5688b42",
   "metadata": {},
   "source": [
    "### **Training**\n",
    "Since $h_{\\theta}(x)$ depends on $\\theta$ parameters the goal of the training function is to find $\\theta$ parameters such that they minimize the Cost function.\n",
    "#### **Cost function**\n",
    "\n",
    "\\begin{align}\n",
    "Cost(h_{\\theta}(x),y) =\\begin{cases} {-\\log (h_{\\theta}(x))} & \\mbox{if } \\mbox{ y = 1}\\\\ {-\\log ( 1 - h_{\\theta}(x)) } & \\mbox{if } \\mbox{ y = 0} \\end{cases}\n",
    "\\end{align}\n",
    "\n",
    "i.e, if the model predicts an output different from the associated output then it is penalized with a high cost, otherwise the cost is 0.\n",
    "\n",
    "Since y = 0 or 1 (always):\n",
    "\n",
    "\\begin{align}\n",
    "Cost(h_{\\theta}(x),y) =  - y\\log (h_{\\theta}(x))- (1 - y)\\log ( 1 - h_{\\theta}(x))\n",
    "\\end{align}\n",
    "\n",
    "i.e, the **cross entropy**.\n",
    "\n",
    "Since the cost function applies to each pattern in our case we define the $J(\\theta)$ function as the average of the cost functions of the individual patterns:\n",
    "\n",
    "\\begin{align}\n",
    "J(\\theta) = \\frac{1}{m} \\sum_{i = 0}^m Cost(h_{\\theta}(x^i),y^i)\n",
    "\\end{align}\n",
    "\n",
    "The goal is to minimize $J(\\theta)$, and to do this we use the **gradient descent** technique:\n",
    "\n",
    "\\begin{align}\n",
    "\\frac{\\partial}{\\partial \\theta_j} J(\\theta) = \\frac{1}{m} \\sum_{i = 0}^m Cost(h_{\\theta}(x^i) - y^i)x_{j}^{(i)}\n",
    "\\end{align}\n",
    "<br>\n",
    "\n",
    "#### **LR training**\n",
    "\n",
    "To train the LR Model we have to:\n",
    "- initialize ${\\theta}$ parameter\n",
    "- compute the gradient to update theta\n",
    "- calculate the cost until good enough\n",
    "\n",
    "\n"
   ]
  },
  {
   "cell_type": "code",
   "execution_count": 16,
   "id": "e9c2d67e",
   "metadata": {},
   "outputs": [
    {
     "data": {
      "text/html": [
       "<style>#sk-container-id-1 {color: black;background-color: white;}#sk-container-id-1 pre{padding: 0;}#sk-container-id-1 div.sk-toggleable {background-color: white;}#sk-container-id-1 label.sk-toggleable__label {cursor: pointer;display: block;width: 100%;margin-bottom: 0;padding: 0.3em;box-sizing: border-box;text-align: center;}#sk-container-id-1 label.sk-toggleable__label-arrow:before {content: \"▸\";float: left;margin-right: 0.25em;color: #696969;}#sk-container-id-1 label.sk-toggleable__label-arrow:hover:before {color: black;}#sk-container-id-1 div.sk-estimator:hover label.sk-toggleable__label-arrow:before {color: black;}#sk-container-id-1 div.sk-toggleable__content {max-height: 0;max-width: 0;overflow: hidden;text-align: left;background-color: #f0f8ff;}#sk-container-id-1 div.sk-toggleable__content pre {margin: 0.2em;color: black;border-radius: 0.25em;background-color: #f0f8ff;}#sk-container-id-1 input.sk-toggleable__control:checked~div.sk-toggleable__content {max-height: 200px;max-width: 100%;overflow: auto;}#sk-container-id-1 input.sk-toggleable__control:checked~label.sk-toggleable__label-arrow:before {content: \"▾\";}#sk-container-id-1 div.sk-estimator input.sk-toggleable__control:checked~label.sk-toggleable__label {background-color: #d4ebff;}#sk-container-id-1 div.sk-label input.sk-toggleable__control:checked~label.sk-toggleable__label {background-color: #d4ebff;}#sk-container-id-1 input.sk-hidden--visually {border: 0;clip: rect(1px 1px 1px 1px);clip: rect(1px, 1px, 1px, 1px);height: 1px;margin: -1px;overflow: hidden;padding: 0;position: absolute;width: 1px;}#sk-container-id-1 div.sk-estimator {font-family: monospace;background-color: #f0f8ff;border: 1px dotted black;border-radius: 0.25em;box-sizing: border-box;margin-bottom: 0.5em;}#sk-container-id-1 div.sk-estimator:hover {background-color: #d4ebff;}#sk-container-id-1 div.sk-parallel-item::after {content: \"\";width: 100%;border-bottom: 1px solid gray;flex-grow: 1;}#sk-container-id-1 div.sk-label:hover label.sk-toggleable__label {background-color: #d4ebff;}#sk-container-id-1 div.sk-serial::before {content: \"\";position: absolute;border-left: 1px solid gray;box-sizing: border-box;top: 0;bottom: 0;left: 50%;z-index: 0;}#sk-container-id-1 div.sk-serial {display: flex;flex-direction: column;align-items: center;background-color: white;padding-right: 0.2em;padding-left: 0.2em;position: relative;}#sk-container-id-1 div.sk-item {position: relative;z-index: 1;}#sk-container-id-1 div.sk-parallel {display: flex;align-items: stretch;justify-content: center;background-color: white;position: relative;}#sk-container-id-1 div.sk-item::before, #sk-container-id-1 div.sk-parallel-item::before {content: \"\";position: absolute;border-left: 1px solid gray;box-sizing: border-box;top: 0;bottom: 0;left: 50%;z-index: -1;}#sk-container-id-1 div.sk-parallel-item {display: flex;flex-direction: column;z-index: 1;position: relative;background-color: white;}#sk-container-id-1 div.sk-parallel-item:first-child::after {align-self: flex-end;width: 50%;}#sk-container-id-1 div.sk-parallel-item:last-child::after {align-self: flex-start;width: 50%;}#sk-container-id-1 div.sk-parallel-item:only-child::after {width: 0;}#sk-container-id-1 div.sk-dashed-wrapped {border: 1px dashed gray;margin: 0 0.4em 0.5em 0.4em;box-sizing: border-box;padding-bottom: 0.4em;background-color: white;}#sk-container-id-1 div.sk-label label {font-family: monospace;font-weight: bold;display: inline-block;line-height: 1.2em;}#sk-container-id-1 div.sk-label-container {text-align: center;}#sk-container-id-1 div.sk-container {/* jupyter's `normalize.less` sets `[hidden] { display: none; }` but bootstrap.min.css set `[hidden] { display: none !important; }` so we also need the `!important` here to be able to override the default hidden behavior on the sphinx rendered scikit-learn.org. See: https://github.com/scikit-learn/scikit-learn/issues/21755 */display: inline-block !important;position: relative;}#sk-container-id-1 div.sk-text-repr-fallback {display: none;}</style><div id=\"sk-container-id-1\" class=\"sk-top-container\"><div class=\"sk-text-repr-fallback\"><pre>LogisticRegression(max_iter=10000)</pre><b>In a Jupyter environment, please rerun this cell to show the HTML representation or trust the notebook. <br />On GitHub, the HTML representation is unable to render, please try loading this page with nbviewer.org.</b></div><div class=\"sk-container\" hidden><div class=\"sk-item\"><div class=\"sk-estimator sk-toggleable\"><input class=\"sk-toggleable__control sk-hidden--visually\" id=\"sk-estimator-id-1\" type=\"checkbox\" checked><label for=\"sk-estimator-id-1\" class=\"sk-toggleable__label sk-toggleable__label-arrow\">LogisticRegression</label><div class=\"sk-toggleable__content\"><pre>LogisticRegression(max_iter=10000)</pre></div></div></div></div></div>"
      ],
      "text/plain": [
       "LogisticRegression(max_iter=10000)"
      ]
     },
     "execution_count": 16,
     "metadata": {},
     "output_type": "execute_result"
    }
   ],
   "source": [
    "#MODEL FIT\n",
    "LRClassifier = LogisticRegression( max_iter=10000)\n",
    "LRClassifier.fit(x_train,y_train)"
   ]
  },
  {
   "cell_type": "markdown",
   "id": "d548a09f",
   "metadata": {},
   "source": [
    "### **Evaluation**\n",
    "We create two sets, the first containing the patterns, the second their respective labels. We use them to calculate the **Confusion Matrix** and measures: **recall, precision and f-score**.\n"
   ]
  },
  {
   "cell_type": "code",
   "execution_count": 17,
   "id": "40b0debd",
   "metadata": {},
   "outputs": [
    {
     "name": "stdout",
     "output_type": "stream",
     "text": [
      "ACCURACY = 0.8080072793448589\n"
     ]
    },
    {
     "data": {
      "text/html": [
       "<div>\n",
       "<style scoped>\n",
       "    .dataframe tbody tr th:only-of-type {\n",
       "        vertical-align: middle;\n",
       "    }\n",
       "\n",
       "    .dataframe tbody tr th {\n",
       "        vertical-align: top;\n",
       "    }\n",
       "\n",
       "    .dataframe thead th {\n",
       "        text-align: right;\n",
       "    }\n",
       "</style>\n",
       "<table border=\"1\" class=\"dataframe\">\n",
       "  <thead>\n",
       "    <tr style=\"text-align: right;\">\n",
       "      <th></th>\n",
       "      <th>neg</th>\n",
       "      <th>pos</th>\n",
       "    </tr>\n",
       "  </thead>\n",
       "  <tbody>\n",
       "    <tr>\n",
       "      <th>recall</th>\n",
       "      <td>0.835694</td>\n",
       "      <td>0.758270</td>\n",
       "    </tr>\n",
       "    <tr>\n",
       "      <th>precision</th>\n",
       "      <td>0.861314</td>\n",
       "      <td>0.719807</td>\n",
       "    </tr>\n",
       "    <tr>\n",
       "      <th>f_measure</th>\n",
       "      <td>0.848311</td>\n",
       "      <td>0.738538</td>\n",
       "    </tr>\n",
       "  </tbody>\n",
       "</table>\n",
       "</div>"
      ],
      "text/plain": [
       "                neg       pos\n",
       "recall     0.835694  0.758270\n",
       "precision  0.861314  0.719807\n",
       "f_measure  0.848311  0.738538"
      ]
     },
     "metadata": {},
     "output_type": "display_data"
    },
    {
     "name": "stdout",
     "output_type": "stream",
     "text": [
      "ACCURACY = 0.7972727272727272\n"
     ]
    },
    {
     "data": {
      "text/html": [
       "<div>\n",
       "<style scoped>\n",
       "    .dataframe tbody tr th:only-of-type {\n",
       "        vertical-align: middle;\n",
       "    }\n",
       "\n",
       "    .dataframe tbody tr th {\n",
       "        vertical-align: top;\n",
       "    }\n",
       "\n",
       "    .dataframe thead th {\n",
       "        text-align: right;\n",
       "    }\n",
       "</style>\n",
       "<table border=\"1\" class=\"dataframe\">\n",
       "  <thead>\n",
       "    <tr style=\"text-align: right;\">\n",
       "      <th></th>\n",
       "      <th>neg</th>\n",
       "      <th>pos</th>\n",
       "    </tr>\n",
       "  </thead>\n",
       "  <tbody>\n",
       "    <tr>\n",
       "      <th>recall</th>\n",
       "      <td>0.831933</td>\n",
       "      <td>0.733161</td>\n",
       "    </tr>\n",
       "    <tr>\n",
       "      <th>precision</th>\n",
       "      <td>0.852224</td>\n",
       "      <td>0.702233</td>\n",
       "    </tr>\n",
       "    <tr>\n",
       "      <th>f_measure</th>\n",
       "      <td>0.841956</td>\n",
       "      <td>0.717364</td>\n",
       "    </tr>\n",
       "  </tbody>\n",
       "</table>\n",
       "</div>"
      ],
      "text/plain": [
       "                neg       pos\n",
       "recall     0.831933  0.733161\n",
       "precision  0.852224  0.702233\n",
       "f_measure  0.841956  0.717364"
      ]
     },
     "metadata": {},
     "output_type": "display_data"
    },
    {
     "name": "stdout",
     "output_type": "stream",
     "text": [
      "ACCURACY = 0.8007279344858963\n"
     ]
    },
    {
     "data": {
      "text/html": [
       "<div>\n",
       "<style scoped>\n",
       "    .dataframe tbody tr th:only-of-type {\n",
       "        vertical-align: middle;\n",
       "    }\n",
       "\n",
       "    .dataframe tbody tr th {\n",
       "        vertical-align: top;\n",
       "    }\n",
       "\n",
       "    .dataframe thead th {\n",
       "        text-align: right;\n",
       "    }\n",
       "</style>\n",
       "<table border=\"1\" class=\"dataframe\">\n",
       "  <thead>\n",
       "    <tr style=\"text-align: right;\">\n",
       "      <th></th>\n",
       "      <th>neg</th>\n",
       "      <th>pos</th>\n",
       "    </tr>\n",
       "  </thead>\n",
       "  <tbody>\n",
       "    <tr>\n",
       "      <th>recall</th>\n",
       "      <td>0.813314</td>\n",
       "      <td>0.779412</td>\n",
       "    </tr>\n",
       "    <tr>\n",
       "      <th>precision</th>\n",
       "      <td>0.861963</td>\n",
       "      <td>0.711409</td>\n",
       "    </tr>\n",
       "    <tr>\n",
       "      <th>f_measure</th>\n",
       "      <td>0.836932</td>\n",
       "      <td>0.743860</td>\n",
       "    </tr>\n",
       "  </tbody>\n",
       "</table>\n",
       "</div>"
      ],
      "text/plain": [
       "                neg       pos\n",
       "recall     0.813314  0.779412\n",
       "precision  0.861963  0.711409\n",
       "f_measure  0.836932  0.743860"
      ]
     },
     "metadata": {},
     "output_type": "display_data"
    },
    {
     "name": "stdout",
     "output_type": "stream",
     "text": [
      "ACCURACY = 0.7963636363636364\n"
     ]
    },
    {
     "data": {
      "text/html": [
       "<div>\n",
       "<style scoped>\n",
       "    .dataframe tbody tr th:only-of-type {\n",
       "        vertical-align: middle;\n",
       "    }\n",
       "\n",
       "    .dataframe tbody tr th {\n",
       "        vertical-align: top;\n",
       "    }\n",
       "\n",
       "    .dataframe thead th {\n",
       "        text-align: right;\n",
       "    }\n",
       "</style>\n",
       "<table border=\"1\" class=\"dataframe\">\n",
       "  <thead>\n",
       "    <tr style=\"text-align: right;\">\n",
       "      <th></th>\n",
       "      <th>neg</th>\n",
       "      <th>pos</th>\n",
       "    </tr>\n",
       "  </thead>\n",
       "  <tbody>\n",
       "    <tr>\n",
       "      <th>recall</th>\n",
       "      <td>0.830791</td>\n",
       "      <td>0.730871</td>\n",
       "    </tr>\n",
       "    <tr>\n",
       "      <th>precision</th>\n",
       "      <td>0.854494</td>\n",
       "      <td>0.694236</td>\n",
       "    </tr>\n",
       "    <tr>\n",
       "      <th>f_measure</th>\n",
       "      <td>0.842475</td>\n",
       "      <td>0.712082</td>\n",
       "    </tr>\n",
       "  </tbody>\n",
       "</table>\n",
       "</div>"
      ],
      "text/plain": [
       "                neg       pos\n",
       "recall     0.830791  0.730871\n",
       "precision  0.854494  0.694236\n",
       "f_measure  0.842475  0.712082"
      ]
     },
     "metadata": {},
     "output_type": "display_data"
    },
    {
     "name": "stdout",
     "output_type": "stream",
     "text": [
      "Accuracy's StdDev:  0.004579887368334473\n",
      "Accuracy's mean 0.8005928943667797\n"
     ]
    },
    {
     "data": {
      "image/png": "[encoded data removed]",
      "text/plain": [
       "<Figure size 200x200 with 2 Axes>"
      ]
     },
     "metadata": {},
     "output_type": "display_data"
    },
    {
     "data": {
      "image/png": "[encoded data removed]",
      "text/plain": [
       "<Figure size 200x200 with 2 Axes>"
      ]
     },
     "metadata": {},
     "output_type": "display_data"
    },
    {
     "data": {
      "image/png": "[encoded data removed]",
      "text/plain": [
       "<Figure size 200x200 with 2 Axes>"
      ]
     },
     "metadata": {},
     "output_type": "display_data"
    },
    {
     "data": {
      "image/png": "[encoded data removed]",
      "text/plain": [
       "<Figure size 200x200 with 2 Axes>"
      ]
     },
     "metadata": {},
     "output_type": "display_data"
    }
   ],
   "source": [
    "predict_test =[LRClassifier.predict(x1_test),LRClassifier.predict(x2_test), LRClassifier.predict(x3_test), LRClassifier.predict(x4_test)] \n",
    "\n",
    "Y_TEST = [y1_test,y2_test,y3_test,y4_test]\n",
    "mat_list = []\n",
    "accuracies = []\n",
    "df_metrics = None\n",
    "for y_pred,y_true in zip(predict_test,Y_TEST):\n",
    "  accuracies.append(accuracy_score(y_true,y_pred))\n",
    "  mat = confusion_matrix(y_true,y_pred, labels=[\"pos\",\"neg\"])\n",
    "  df_metrics = pd.DataFrame(precision_recall_fscore_support(y_true,y_pred)[:3], columns = [\"neg\",\"pos\"], index = [\"recall\",\"precision\",\"f_measure\"])\n",
    "  disp = ConfusionMatrixDisplay(confusion_matrix=mat, display_labels=[\"pos\",\"neg\"])\n",
    "  fig, ax = plt.subplots(figsize=(2,2))  \n",
    "  disp.plot(ax=ax)\n",
    "  print(\"ACCURACY =\", accuracy_score(y_true,y_pred))\n",
    "  display(df_metrics)\n",
    "\n",
    "accuracies = np.array(accuracies)\n",
    "print(\"Accuracy's StdDev: \",  accuracies.std())\n",
    "print(\"Accuracy's mean\", accuracies.mean())"
   ]
  },
  {
   "cell_type": "markdown",
   "id": "bc8d94b2",
   "metadata": {},
   "source": [
    "**Example**\n",
    "\n",
    "Given a new tweet we calculate the probability that it is `'pos'` or `'neg'`."
   ]
  },
  {
   "cell_type": "code",
   "execution_count": 18,
   "id": "b960e8a8",
   "metadata": {},
   "outputs": [
    {
     "name": "stdout",
     "output_type": "stream",
     "text": [
      "Result: ['neg']\n",
      " with prob: [[0.89728656 0.10271344]]\n"
     ]
    }
   ],
   "source": [
    "#INPUT TEST\n",
    "tweet = 'The other day I had a pizza in Puglia, but it looked like a cookie. Really horrible and inedible'\n",
    "List = []\n",
    "List.append(preprocessingLR(tweet))\n",
    "\n",
    "INPUT = vectorizer.transform(List) #Features extraction for the sample\n",
    "\n",
    "print(f'Result: {LRClassifier.predict(INPUT)}\\n with prob: {LRClassifier.predict_proba(INPUT)}')"
   ]
  },
  {
   "cell_type": "code",
   "execution_count": null,
   "id": "10d46fff",
   "metadata": {},
   "outputs": [],
   "source": []
  }
 ],
 "metadata": {
  "kernelspec": {
   "display_name": "Python 3 (ipykernel)",
   "language": "python",
   "name": "python3"
  },
  "language_info": {
   "codemirror_mode": {
    "name": "ipython",
    "version": 3
   },
   "file_extension": ".py",
   "mimetype": "text/x-python",
   "name": "python",
   "nbconvert_exporter": "python",
   "pygments_lexer": "ipython3",
   "version": "3.9.13"
  }
 },
 "nbformat": 4,
 "nbformat_minor": 5
}
